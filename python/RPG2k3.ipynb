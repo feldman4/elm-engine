{
 "cells": [
  {
   "cell_type": "markdown",
   "metadata": {},
   "source": [
    "# battle plan\n",
    "\n",
    "## rebuild RPG2k3 systems in `elm-engine`\n",
    "\n",
    "- <span style=\"color:green\">[**easy**]</span> render map with WebGL \n",
    "\n",
    "- <span style=\"color:green\">[**easy**]</span> input, navigation \n",
    "  - <span style=\"color:gray\">[**???**]</span> world tree\n",
    "  \n",
    "- <span style=\"color:red\">[**hard**]</span> event system\n",
    "  - global environment\n",
    "  - embedded scripting, expose Elm functions\n",
    "\n",
    "- <span style=\"color:red\">[**hard**]</span> implement events\n",
    "  - load map files\n",
    "  - translate `Event`, `EventCommand`\n",
    "  - message\n",
    "  - choices\n",
    "  - set!\n",
    "  - time elapsed\n",
    "  - change state: inventory, etc (callbacks on failure?)\n",
    "- <span style=\"color:red\">[**also hard**]</span> animated events\n",
    "    - \n",
    "\n",
    "- <span style=\"color:red\">[**hard**]</span> graphic effects\n",
    "  - color saturation\n",
    "  - distort (vertex buffer?)\n",
    "  - shader combinators?"
   ]
  },
  {
   "cell_type": "markdown",
   "metadata": {},
   "source": [
    "## better tools\n",
    "\n",
    "- `lister`: console, editing, custom views\n",
    "- `timeline`: message stream, scroll through scenes \n",
    "- plot tree? "
   ]
  },
  {
   "cell_type": "markdown",
   "metadata": {},
   "source": [
    "# engine types\n",
    "\n",
    "```elm\n",
    "type alias Model = \n",
    "  { entities : List Entity\n",
    "  , commands : List (Tree Parallel|Serial Command)\n",
    "    -- Branch Parallel|Serial (List (Tree Command)) | Leaf Command\n",
    "  , clock : Clock -- (wall time, game time, tick ratio)\n",
    "  , state : State -- (Dialog, Menu, Battle, Map)\n",
    "  , render : RenderOptions \n",
    "  , resources : Collection XML (Texture, etc)\n",
    "  , seed : RandomSeed\n",
    "  , gamepad : Gamepad -- {up: Bool, down, A, B, X, Y etc}\n",
    "  }\n",
    "\n",
    "\n",
    "type Entity =\n",
    "  Entity\n",
    "  { position : Maybe Vec2\n",
    "  , orientation : Maybe Vec2\n",
    "  , animation : Maybe (Animation Entity)\n",
    "  , event : Maybe (Event Entity)\n",
    "  , sprite : Maybe Sprite\n",
    "  , inventory : Maybe Inventory\n",
    "  }\n",
    "\n",
    "\n",
    "type Message \n",
    "  = AddCommand CommandTree -- could also track these \n",
    "  | Input GamePadPress\n",
    "  | Elapsed AnimationFrame\n",
    "  | ListerMsg Lister.Message\n",
    "\n",
    "\n",
    "```"
   ]
  },
  {
   "cell_type": "markdown",
   "metadata": {},
   "source": [
    "###### how to tackle animation?\n",
    "\n",
    "`{animation: AnimationState -> Time -> Object -> Object}`\n",
    "\n",
    "where Object has only relevant fields (e.g., position, orientation, sprite angle)\n",
    "might need option to chain/combine animations\n",
    "\n",
    "sequential commands?\n",
    "could load commands into a global pipeline (after marking with event ID)\n",
    "tree of commands, lists marked Parallel or Serial. maybe some dummy events to coordinate. \n",
    "\n",
    "global transitions?\n",
    "- dialog, menu, battle\n",
    "- top level union type, view dispatches w/ case statement\n",
    "- top level clock (wall time, game time, tick ratio)\n",
    "\n"
   ]
  },
  {
   "cell_type": "markdown",
   "metadata": {},
   "source": [
    "### lister resources\n",
    "\n",
    "https://gribouille.github.io/demos/elm-treeview/latest/"
   ]
  },
  {
   "cell_type": "code",
   "execution_count": 1,
   "metadata": {},
   "outputs": [],
   "source": [
    "get_ipython().magic(u'load_ext autoreload')\n",
    "get_ipython().magic(u'autoreload 2')"
   ]
  },
  {
   "cell_type": "code",
   "execution_count": 10,
   "metadata": {},
   "outputs": [],
   "source": [
    "from lxml import etree\n",
    "from bs4 import BeautifulSoup"
   ]
  },
  {
   "cell_type": "code",
   "execution_count": 12,
   "metadata": {},
   "outputs": [],
   "source": [
    "f = 'C:Documents/EasyRPG-Editor/Demo/Map0002.emu'\n",
    "soup = BeautifulSoup(open(f, 'r').read())\n",
    "events = soup.find_all('event', id='0001')"
   ]
  }
 ],
 "metadata": {
  "kernelspec": {
   "display_name": "Python 2",
   "language": "python",
   "name": "python2"
  },
  "language_info": {
   "codemirror_mode": {
    "name": "ipython",
    "version": 2
   },
   "file_extension": ".py",
   "mimetype": "text/x-python",
   "name": "python",
   "nbconvert_exporter": "python",
   "pygments_lexer": "ipython2",
   "version": "2.7.14"
  }
 },
 "nbformat": 4,
 "nbformat_minor": 2
}
